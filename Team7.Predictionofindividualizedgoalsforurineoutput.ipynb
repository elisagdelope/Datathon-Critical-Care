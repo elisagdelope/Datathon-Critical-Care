{
  "nbformat": 4,
  "nbformat_minor": 0,
  "metadata": {
    "colab": {
      "name": "Copy of MIMIC-III Datathon Tutorial",
      "version": "0.3.2",
      "provenance": [],
      "collapsed_sections": []
    }
  },
  "cells": [
    {
      "metadata": {
        "id": "6fr_A5J1tVFQ",
        "colab_type": "text"
      },
      "cell_type": "markdown",
      "source": [
        "\n",
        "Copyright 2018 Google Inc.\n",
        "\n",
        "Licensed under the Apache License, Version 2.0 (the \"License\"); you may not use this file except in compliance with the License. You may obtain a copy of the License at\n",
        "\n",
        "> https://www.apache.org/licenses/LICENSE-2.0\n",
        "\n",
        "Unless required by applicable law or agreed to in writing, software distributed under the License is distributed on an \"AS IS\" BASIS, WITHOUT WARRANTIES OR CONDITIONS OF ANY KIND, either express or implied. See the License for the specific language governing permissions and limitations under the License."
      ]
    },
    {
      "metadata": {
        "id": "QT2sukPDtrWQ",
        "colab_type": "text"
      },
      "cell_type": "markdown",
      "source": [
        "# Datathon Tutorial\n",
        "\n",
        "The aim of this tutorial is to get you familiarized with BigQuery to query/filter/aggregate/export data with Python.\n",
        "\n",
        "## Prerequisites\n",
        "\n",
        "You should already have had a valid Gmail account registered with the datathon organizers.\n",
        "  * If you do not have a Gmail account, you can create one at http://www.gmail.com. You need to notify datathon organizers to register your new account for data access.\n",
        "  * If you have not yet signed the data use agreement (DUA) sent by the organizers, please do so immediately to get access to the MIMIC-III dataset."
      ]
    },
    {
      "metadata": {
        "id": "xks2nlrtt-um",
        "colab_type": "text"
      },
      "cell_type": "markdown",
      "source": [
        "## Setup\n",
        "\n",
        "To be able to run the queries in this tutorial, you need to create a copy of this Colab notebook by clicking \"File\" > \"Save a copy in Drive...\" menu.\n",
        "You can share your copy with your teammates by clicking on the \"SHARE\" button on the top-right corner of your Colab notebook copy. Everyone with \"Edit\" permission is able to modify the notebook at the same time, so it is a great way for team collaboration. Before running any cell in this colab, please make sure there is a green check mark before \"CONNECTED\" on top right corner, if not, please click \"CONNECTED\" button to connect to a random backend.\n",
        "\n",
        "Now that you have done the initial setup, let us start playing with the data. First, you need to run some initialization code. You can run the following cell by clicking on the triangle button when you hover over the [ ] space on the top-left corner of the code cell below."
      ]
    },
    {
      "metadata": {
        "id": "rS9g4-r7uohe",
        "colab_type": "code",
        "colab": {}
      },
      "cell_type": "code",
      "source": [
        "# Import libraries\n",
        "import numpy as np\n",
        "import os\n",
        "import pandas as pd\n",
        "import matplotlib.pyplot as plt\n",
        "import matplotlib.patches as patches\n",
        "import matplotlib.path as path\n",
        "import tensorflow as tf\n",
        "\n",
        "# Below imports are used to print out pretty pandas dataframes\n",
        "from IPython.display import display, HTML\n",
        "\n",
        "# Imports for accessing Datathon data using Google BigQuery.\n",
        "from google.colab import auth\n",
        "from google.cloud import bigquery"
      ],
      "execution_count": 0,
      "outputs": []
    },
    {
      "metadata": {
        "id": "rlP2b-PKvUMk",
        "colab_type": "text"
      },
      "cell_type": "markdown",
      "source": [
        "Before running any queries using BigQuery, you need to first authenticate yourself by running the following cell. If you are running it for the first time, it will ask you to follow a link to log in using your Gmail account, and accept the data access requests to your profile. Once this is done, it will generate a string of verification code, which you should paste back to the cell below and press enter."
      ]
    },
    {
      "metadata": {
        "id": "HDL3CjUKvddl",
        "colab_type": "code",
        "colab": {}
      },
      "cell_type": "code",
      "source": [
        "auth.authenticate_user()"
      ],
      "execution_count": 0,
      "outputs": []
    },
    {
      "metadata": {
        "id": "0qezUBvxH7_6",
        "colab_type": "text"
      },
      "cell_type": "markdown",
      "source": [
        "The data-hosting project `physionet-data` has read-only access, as a result, you need to set a default project that you have BigQuery access to. A shared project should be created by the event organizers, and we will be using it throughout this tutorial.\n",
        "\n",
        "Note that during the datathon, all participants will be divided into teams and a Google Cloud project will be created for each team specifically. That project would be the preferred project to use. For now we'll stick with the shared project for the purpose of the tutorial.\n",
        "\n",
        "After datathon is finished, the shared project may either lock down access or be deleted, it's still possible to run queries from a project you own personally as long as you have access to the dataset hosting project.\n",
        "\n",
        "Change the variable project_id below to list the project you are using."
      ]
    },
    {
      "metadata": {
        "id": "nx4ZDlJ6we9j",
        "colab_type": "code",
        "colab": {}
      },
      "cell_type": "code",
      "source": [
        "project_id='datathon-tarragona-2018'\n",
        "os.environ[\"GOOGLE_CLOUD_PROJECT\"]=project_id"
      ],
      "execution_count": 0,
      "outputs": []
    },
    {
      "metadata": {
        "id": "ZondovXiw-zq",
        "colab_type": "text"
      },
      "cell_type": "markdown",
      "source": [
        "Let's define a few methods to wrap BigQuery operations, so that we don't have to write the configurations again and again."
      ]
    },
    {
      "metadata": {
        "id": "DIbbCE3YxLdM",
        "colab_type": "code",
        "colab": {}
      },
      "cell_type": "code",
      "source": [
        "# Read data from BigQuery into pandas dataframes.\n",
        "def run_query(query):\n",
        "  return pd.io.gbq.read_gbq(query, project_id=project_id, verbose=False, configuration={'query':{'useLegacySql': False}})"
      ],
      "execution_count": 0,
      "outputs": []
    },
    {
      "metadata": {
        "id": "VDfGS-0VxjpC",
        "colab_type": "text"
      },
      "cell_type": "markdown",
      "source": [
        "OK, that's it for setup, now let's get our hands on the MIMIC demo data!"
      ]
    },
    {
      "metadata": {
        "id": "KaiZuwF2oOt_",
        "colab_type": "text"
      },
      "cell_type": "markdown",
      "source": [
        "# SQL query"
      ]
    },
    {
      "metadata": {
        "id": "etbmtt0nRhjy",
        "colab_type": "code",
        "colab": {}
      },
      "cell_type": "code",
      "source": [
        "df1 = run_query('''\n",
        "SELECT int.patientunitstayid, apache.apacheadmissiondx, icu.unittype, icu.apache_iv, labfirst.aniongap_min, labfirst.aniongap_max, labfirst.albumin_min, labfirst.albumin_max, labfirst.bands_min, labfirst.bands_max, labfirst.bicarbonate_min, labfirst.bicarbonate_max, labfirst.hco3_min, labfirst.hco3_max, labfirst.bilirubin_min, labfirst.bilirubin_max, labfirst.creatinine_min, labfirst.creatinine_max, labfirst.chloride_min, labfirst.chloride_max, labfirst.glucose_min, labfirst.glucose_max, labfirst.hematocrit_min, labfirst.hematocrit_max, labfirst.hemoglobin_min, labfirst.hemoglobin_max, labfirst.lactate_min, labfirst.lactate_max, labfirst.potassium_min, labfirst.potassium_max, labfirst.sodium_min, labfirst.sodium_max, labfirst.bun_min, labfirst.bun_max, pbg.fio2, pbg.pao2,\n",
        "       pinf.dopamine, pinf.dobutamine, pinf.norepinephrine, puo.outputtotal, puo.urineoutput ,pvital.heartrate, pvital.respiratoryrate, pvital.spo2, pvital.nibp_systolic, pvital.nibp_diastolic, pvital.nibp_mean, pvital.temperature, pvital.temperaturelocation, pvital.ibp_systolic, pvital.ibp_diastolic, pvital.ibp_mean, dem.age, dem.gender, dem.icu_los_hour, dem.hosp_mortality\n",
        "FROM `datathon-tarragona-2018.team7.intersect_aki_dialysis` int, `physionet-data.eicu_crd_derived.apache_groups` apache, `physionet-data.eicu_crd_derived.icustay_detail` icu, `physionet-data.eicu_crd_derived.labsfirstday` labfirst, `physionet-data.eicu_crd_derived.pivoted_bg` pbg, `physionet-data.eicu_crd_derived.pivoted_infusion` pinf, `physionet-data.eicu_crd_derived.pivoted_uo` puo, `physionet-data.eicu_crd_derived.pivoted_vital` pvital, `physionet-data.eicu_crd_derived.basic_demographics` dem\n",
        "WHERE int.patientunitstayid=apache.patientunitstayid and int.patientunitstayid=icu.patientunitstayid and int.patientunitstayid=labfirst.patientunitstayid and int.patientunitstayid=pbg.patientunitstayid and int.patientunitstayid=pinf.patientunitstayid and int.patientunitstayid=puo.patientunitstayid and int.patientunitstayid=pvital.patientunitstayid and int.patientunitstayid=dem.patientunitstayid\n",
        "''')\n",
        "df1.head()"
      ],
      "execution_count": 0,
      "outputs": []
    },
    {
      "metadata": {
        "id": "HWfBuHgSSR7_",
        "colab_type": "code",
        "colab": {
          "base_uri": "https://localhost:8080/",
          "height": 224
        },
        "outputId": "ad17b81f-0b11-4c74-9014-9debec8147cf"
      },
      "cell_type": "code",
      "source": [
        "dataset = run_query('''\n",
        "SELECT * \n",
        "FROM `datathon-tarragona-2018.team7.int3_def`\n",
        "''')\n",
        "dataset.head()"
      ],
      "execution_count": 6,
      "outputs": [
        {
          "output_type": "execute_result",
          "data": {
            "text/html": [
              "<div>\n",
              "<style scoped>\n",
              "    .dataframe tbody tr th:only-of-type {\n",
              "        vertical-align: middle;\n",
              "    }\n",
              "\n",
              "    .dataframe tbody tr th {\n",
              "        vertical-align: top;\n",
              "    }\n",
              "\n",
              "    .dataframe thead th {\n",
              "        text-align: right;\n",
              "    }\n",
              "</style>\n",
              "<table border=\"1\" class=\"dataframe\">\n",
              "  <thead>\n",
              "    <tr style=\"text-align: right;\">\n",
              "      <th></th>\n",
              "      <th>patientunitstayid</th>\n",
              "      <th>outputtotal</th>\n",
              "      <th>urineoutput</th>\n",
              "      <th>heartrate</th>\n",
              "      <th>respiratoryrate</th>\n",
              "      <th>spo2</th>\n",
              "      <th>nibp_systolic</th>\n",
              "      <th>nibp_diastolic</th>\n",
              "      <th>nibp_mean</th>\n",
              "      <th>temperature</th>\n",
              "      <th>temperaturelocation</th>\n",
              "      <th>ibp_systolic</th>\n",
              "      <th>ibp_diastolic</th>\n",
              "      <th>ibp_mean</th>\n",
              "      <th>age</th>\n",
              "      <th>gender</th>\n",
              "      <th>icu_los_hours</th>\n",
              "      <th>hosp_mortality</th>\n",
              "    </tr>\n",
              "  </thead>\n",
              "  <tbody>\n",
              "    <tr>\n",
              "      <th>0</th>\n",
              "      <td>3051522</td>\n",
              "      <td>1.0</td>\n",
              "      <td>1.0</td>\n",
              "      <td>73.0</td>\n",
              "      <td>20.0</td>\n",
              "      <td>89.0</td>\n",
              "      <td>NaN</td>\n",
              "      <td>NaN</td>\n",
              "      <td>NaN</td>\n",
              "      <td>NaN</td>\n",
              "      <td>None</td>\n",
              "      <td>30.0</td>\n",
              "      <td>27.0</td>\n",
              "      <td>28.0</td>\n",
              "      <td>33</td>\n",
              "      <td>1</td>\n",
              "      <td>258.0</td>\n",
              "      <td>1</td>\n",
              "    </tr>\n",
              "    <tr>\n",
              "      <th>1</th>\n",
              "      <td>3051522</td>\n",
              "      <td>200.0</td>\n",
              "      <td>200.0</td>\n",
              "      <td>73.0</td>\n",
              "      <td>20.0</td>\n",
              "      <td>89.0</td>\n",
              "      <td>NaN</td>\n",
              "      <td>NaN</td>\n",
              "      <td>NaN</td>\n",
              "      <td>NaN</td>\n",
              "      <td>None</td>\n",
              "      <td>30.0</td>\n",
              "      <td>27.0</td>\n",
              "      <td>28.0</td>\n",
              "      <td>33</td>\n",
              "      <td>1</td>\n",
              "      <td>258.0</td>\n",
              "      <td>1</td>\n",
              "    </tr>\n",
              "    <tr>\n",
              "      <th>2</th>\n",
              "      <td>3015427</td>\n",
              "      <td>559.0</td>\n",
              "      <td>18.0</td>\n",
              "      <td>116.0</td>\n",
              "      <td>NaN</td>\n",
              "      <td>89.0</td>\n",
              "      <td>150.0</td>\n",
              "      <td>79.0</td>\n",
              "      <td>94.0</td>\n",
              "      <td>NaN</td>\n",
              "      <td>None</td>\n",
              "      <td>183.0</td>\n",
              "      <td>85.0</td>\n",
              "      <td>125.0</td>\n",
              "      <td>69</td>\n",
              "      <td>1</td>\n",
              "      <td>310.0</td>\n",
              "      <td>0</td>\n",
              "    </tr>\n",
              "    <tr>\n",
              "      <th>3</th>\n",
              "      <td>3015427</td>\n",
              "      <td>512.0</td>\n",
              "      <td>0.0</td>\n",
              "      <td>116.0</td>\n",
              "      <td>NaN</td>\n",
              "      <td>89.0</td>\n",
              "      <td>150.0</td>\n",
              "      <td>79.0</td>\n",
              "      <td>94.0</td>\n",
              "      <td>NaN</td>\n",
              "      <td>None</td>\n",
              "      <td>183.0</td>\n",
              "      <td>85.0</td>\n",
              "      <td>125.0</td>\n",
              "      <td>69</td>\n",
              "      <td>1</td>\n",
              "      <td>310.0</td>\n",
              "      <td>0</td>\n",
              "    </tr>\n",
              "    <tr>\n",
              "      <th>4</th>\n",
              "      <td>3341064</td>\n",
              "      <td>210.0</td>\n",
              "      <td>210.0</td>\n",
              "      <td>80.0</td>\n",
              "      <td>26.0</td>\n",
              "      <td>71.0</td>\n",
              "      <td>NaN</td>\n",
              "      <td>NaN</td>\n",
              "      <td>NaN</td>\n",
              "      <td>NaN</td>\n",
              "      <td>None</td>\n",
              "      <td>NaN</td>\n",
              "      <td>110.0</td>\n",
              "      <td>176.0</td>\n",
              "      <td>82</td>\n",
              "      <td>2</td>\n",
              "      <td>1121.0</td>\n",
              "      <td>0</td>\n",
              "    </tr>\n",
              "  </tbody>\n",
              "</table>\n",
              "</div>"
            ],
            "text/plain": [
              "   patientunitstayid  outputtotal  urineoutput  heartrate  respiratoryrate  \\\n",
              "0            3051522          1.0          1.0       73.0             20.0   \n",
              "1            3051522        200.0        200.0       73.0             20.0   \n",
              "2            3015427        559.0         18.0      116.0              NaN   \n",
              "3            3015427        512.0          0.0      116.0              NaN   \n",
              "4            3341064        210.0        210.0       80.0             26.0   \n",
              "\n",
              "   spo2  nibp_systolic  nibp_diastolic  nibp_mean  temperature  \\\n",
              "0  89.0            NaN             NaN        NaN          NaN   \n",
              "1  89.0            NaN             NaN        NaN          NaN   \n",
              "2  89.0          150.0            79.0       94.0          NaN   \n",
              "3  89.0          150.0            79.0       94.0          NaN   \n",
              "4  71.0            NaN             NaN        NaN          NaN   \n",
              "\n",
              "  temperaturelocation  ibp_systolic  ibp_diastolic  ibp_mean age  gender  \\\n",
              "0                None          30.0           27.0      28.0  33       1   \n",
              "1                None          30.0           27.0      28.0  33       1   \n",
              "2                None         183.0           85.0     125.0  69       1   \n",
              "3                None         183.0           85.0     125.0  69       1   \n",
              "4                None           NaN          110.0     176.0  82       2   \n",
              "\n",
              "   icu_los_hours hosp_mortality  \n",
              "0          258.0              1  \n",
              "1          258.0              1  \n",
              "2          310.0              0  \n",
              "3          310.0              0  \n",
              "4         1121.0              0  "
            ]
          },
          "metadata": {
            "tags": []
          },
          "execution_count": 6
        }
      ]
    },
    {
      "metadata": {
        "id": "IEOcWC4OUElC",
        "colab_type": "code",
        "colab": {}
      },
      "cell_type": "code",
      "source": [
        "dataset.head()"
      ],
      "execution_count": 0,
      "outputs": []
    },
    {
      "metadata": {
        "id": "wxVJ3ysP2nv5",
        "colab_type": "text"
      },
      "cell_type": "markdown",
      "source": [
        "# Sección pruebas Albert"
      ]
    },
    {
      "metadata": {
        "id": "jJbZDog9mc7B",
        "colab_type": "code",
        "colab": {}
      },
      "cell_type": "code",
      "source": [
        "#Setup\n",
        "# Import libraries\n",
        "import numpy as np\n",
        "import os\n",
        "import pandas as pd\n",
        "import matplotlib.pyplot as plt\n",
        "import matplotlib.patches as patches\n",
        "import matplotlib.path as path\n",
        "import tensorflow as tf\n",
        "\n",
        "# Below imports are used to print out pretty pandas dataframes\n",
        "from IPython.display import display, HTML\n",
        "\n",
        "# Imports for accessing Datathon data using Google BigQuery.\n",
        "from google.colab import auth\n",
        "from google.cloud import bigquery\n",
        "\n",
        "auth.authenticate_user()\n",
        "\n",
        "project_id='datathon-tarragona-2018'\n",
        "os.environ[\"GOOGLE_CLOUD_PROJECT\"]=project_id\n",
        "\n",
        "# Read data from BigQuery into pandas dataframes.\n",
        "def run_query(query):\n",
        "  return pd.io.gbq.read_gbq(query, project_id=project_id, verbose=False, configuration={'query':{'useLegacySql': False}})"
      ],
      "execution_count": 0,
      "outputs": []
    },
    {
      "metadata": {
        "id": "mvPGyaPkxu4m",
        "colab_type": "code",
        "colab": {}
      },
      "cell_type": "code",
      "source": [
        "df1 = run_query('''\n",
        "  SELECT\n",
        "  *\n",
        "  FROM `datathon-tarragona-2018.team7.intersect_aki_dialysis`\n",
        "''')\n",
        "df1.head()"
      ],
      "execution_count": 0,
      "outputs": []
    },
    {
      "metadata": {
        "id": "HbgUpaCNujG-",
        "colab_type": "code",
        "colab": {
          "base_uri": "https://localhost:8080/",
          "height": 206
        },
        "outputId": "c4ebe9aa-3a1f-41f2-aca1-dca264111a38"
      },
      "cell_type": "code",
      "source": [
        "df2 = run_query('''\n",
        "  SELECT\n",
        "  *\n",
        "  FROM `datathon-tarragona-2018.team7.outer_aki_notdialysis`\n",
        "''')\n",
        "df2.head()\n",
        "\n",
        "df3 = run_query('''\n",
        "  SELECT patientUnitStayID FROM `physionet-data.eicu_crd.patient`\n",
        "''')\n",
        "\n",
        "df3.describe()\n",
        "\n",
        "df3.head()\n",
        "#count(df3[''].unique())"
      ],
      "execution_count": 7,
      "outputs": [
        {
          "output_type": "execute_result",
          "data": {
            "text/html": [
              "<div>\n",
              "<style scoped>\n",
              "    .dataframe tbody tr th:only-of-type {\n",
              "        vertical-align: middle;\n",
              "    }\n",
              "\n",
              "    .dataframe tbody tr th {\n",
              "        vertical-align: top;\n",
              "    }\n",
              "\n",
              "    .dataframe thead th {\n",
              "        text-align: right;\n",
              "    }\n",
              "</style>\n",
              "<table border=\"1\" class=\"dataframe\">\n",
              "  <thead>\n",
              "    <tr style=\"text-align: right;\">\n",
              "      <th></th>\n",
              "      <th>patientUnitStayID</th>\n",
              "    </tr>\n",
              "  </thead>\n",
              "  <tbody>\n",
              "    <tr>\n",
              "      <th>0</th>\n",
              "      <td>1137569</td>\n",
              "    </tr>\n",
              "    <tr>\n",
              "      <th>1</th>\n",
              "      <td>3036927</td>\n",
              "    </tr>\n",
              "    <tr>\n",
              "      <th>2</th>\n",
              "      <td>3058863</td>\n",
              "    </tr>\n",
              "    <tr>\n",
              "      <th>3</th>\n",
              "      <td>3072720</td>\n",
              "    </tr>\n",
              "    <tr>\n",
              "      <th>4</th>\n",
              "      <td>3075429</td>\n",
              "    </tr>\n",
              "  </tbody>\n",
              "</table>\n",
              "</div>"
            ],
            "text/plain": [
              "   patientUnitStayID\n",
              "0            1137569\n",
              "1            3036927\n",
              "2            3058863\n",
              "3            3072720\n",
              "4            3075429"
            ]
          },
          "metadata": {
            "tags": []
          },
          "execution_count": 7
        }
      ]
    },
    {
      "metadata": {
        "id": "lPM-lZY9QLBT",
        "colab_type": "code",
        "colab": {
          "base_uri": "https://localhost:8080/",
          "height": 35
        },
        "outputId": "cc76ab87-159b-4776-a5f7-ba786c19e19e"
      },
      "cell_type": "code",
      "source": [
        "len(df3['patientUnitStayID'].unique())"
      ],
      "execution_count": 9,
      "outputs": [
        {
          "output_type": "execute_result",
          "data": {
            "text/plain": [
              "200859"
            ]
          },
          "metadata": {
            "tags": []
          },
          "execution_count": 9
        }
      ]
    },
    {
      "metadata": {
        "id": "1J9x785gfRGy",
        "colab_type": "text"
      },
      "cell_type": "markdown",
      "source": [
        "# Graphical Interface"
      ]
    },
    {
      "metadata": {
        "id": "FQ4AD2RxfUWO",
        "colab_type": "code",
        "colab": {
          "base_uri": "https://localhost:8080/",
          "height": 35
        },
        "cellView": "form",
        "outputId": "afcbbd64-334e-4a73-cd7e-2e01b7251bf2"
      },
      "cell_type": "code",
      "source": [
        "Age = 23 #@param {type:\"slider\", min:10, max:99, step:1}\n",
        "Gender = \"Female\" #@param [\"Male\", \"Female\"]\n",
        "Creatinine = 65 #@param {type:\"number\"}\n",
        "\n",
        "if Age < 50:\n",
        "  print(\"The patient is healthy.\")\n",
        "else:\n",
        "  print(\"Hay que amputar\")"
      ],
      "execution_count": 10,
      "outputs": [
        {
          "output_type": "stream",
          "text": [
            "The patient is healthy.\n"
          ],
          "name": "stdout"
        }
      ]
    },
    {
      "metadata": {
        "id": "Hze3DJjjOeFa",
        "colab_type": "text"
      },
      "cell_type": "markdown",
      "source": [
        "# Modelos"
      ]
    },
    {
      "metadata": {
        "id": "t4wAv_T6PEBb",
        "colab_type": "code",
        "colab": {}
      },
      "cell_type": "code",
      "source": [
        "import numpy as np # linear algebra\n",
        "import pandas as pd # data processing, CSV file I/O (e.g. pd.read_csv)\n",
        "import warnings\n",
        "warnings.filterwarnings('ignore')\n",
        "import matplotlib.pyplot as plt\n",
        "import seaborn as sns\n",
        "%matplotlib inline\n",
        "# Input data files are available in the \"../input/\" directory.\n",
        "# For example, running this (by clicking run or pressing Shift+Enter) will list the files in the input directory\n",
        "#dataset = pd.read_csv('/Users/uxuelazkanodobao/Documents/DATATHON/iris.csv')\n",
        "\n",
        "# Any results you write to the current directory are saved as output."
      ],
      "execution_count": 0,
      "outputs": []
    },
    {
      "metadata": {
        "id": "p5_-sYwzX5W7",
        "colab_type": "code",
        "colab": {
          "base_uri": "https://localhost:8080/",
          "height": 119
        },
        "outputId": "46d86c26-2e00-4a37-82d7-a56cef633d83"
      },
      "cell_type": "code",
      "source": [
        "dataset.columns"
      ],
      "execution_count": 8,
      "outputs": [
        {
          "output_type": "execute_result",
          "data": {
            "text/plain": [
              "Index([u'patientunitstayid', u'outputtotal', u'urineoutput', u'heartrate',\n",
              "       u'respiratoryrate', u'spo2', u'nibp_systolic', u'nibp_diastolic',\n",
              "       u'nibp_mean', u'temperature', u'temperaturelocation', u'ibp_systolic',\n",
              "       u'ibp_diastolic', u'ibp_mean', u'age', u'gender', u'icu_los_hours',\n",
              "       u'hosp_mortality'],\n",
              "      dtype='object')"
            ]
          },
          "metadata": {
            "tags": []
          },
          "execution_count": 8
        }
      ]
    },
    {
      "metadata": {
        "id": "Poyt0FCUPH6A",
        "colab_type": "code",
        "colab": {
          "base_uri": "https://localhost:8080/",
          "height": 102
        },
        "outputId": "d86bd2db-60a6-4ae0-d254-e78225b04741"
      },
      "cell_type": "code",
      "source": [
        "dataset['hosp_mortality'].describe()"
      ],
      "execution_count": 9,
      "outputs": [
        {
          "output_type": "execute_result",
          "data": {
            "text/plain": [
              "count     99948\n",
              "unique        2\n",
              "top           1\n",
              "freq      50264\n",
              "Name: hosp_mortality, dtype: int64"
            ]
          },
          "metadata": {
            "tags": []
          },
          "execution_count": 9
        }
      ]
    },
    {
      "metadata": {
        "id": "ZyDwdlleYy7Y",
        "colab_type": "code",
        "colab": {}
      },
      "cell_type": "code",
      "source": [
        "dataset = dataset.drop(columns= 'temperaturelocation')"
      ],
      "execution_count": 0,
      "outputs": []
    },
    {
      "metadata": {
        "id": "l93PD5BwZgob",
        "colab_type": "code",
        "colab": {}
      },
      "cell_type": "code",
      "source": [
        "dataset = dataset[(dataset['age']!='> 89')]\n"
      ],
      "execution_count": 0,
      "outputs": []
    },
    {
      "metadata": {
        "id": "EAxNM9MsZISf",
        "colab_type": "code",
        "colab": {}
      },
      "cell_type": "code",
      "source": [
        "dataset[\"age\"] = pd.to_numeric(dataset[\"age\"])\n"
      ],
      "execution_count": 0,
      "outputs": []
    },
    {
      "metadata": {
        "id": "DGIemsDvPH8o",
        "colab_type": "code",
        "colab": {
          "base_uri": "https://localhost:8080/",
          "height": 102
        },
        "outputId": "48c2a7ec-b1e2-4ea9-9106-a59e3102bf23"
      },
      "cell_type": "code",
      "source": [
        "dataset.columns"
      ],
      "execution_count": 50,
      "outputs": [
        {
          "output_type": "execute_result",
          "data": {
            "text/plain": [
              "Index([u'patientunitstayid', u'outputtotal', u'urineoutput', u'heartrate',\n",
              "       u'respiratoryrate', u'spo2', u'nibp_systolic', u'nibp_diastolic',\n",
              "       u'nibp_mean', u'temperature', u'ibp_systolic', u'ibp_diastolic',\n",
              "       u'ibp_mean', u'age', u'gender', u'icu_los_hours', u'hosp_mortality'],\n",
              "      dtype='object')"
            ]
          },
          "metadata": {
            "tags": []
          },
          "execution_count": 50
        }
      ]
    },
    {
      "metadata": {
        "id": "oz6INEfIbpwV",
        "colab_type": "code",
        "colab": {}
      },
      "cell_type": "code",
      "source": [
        "dataset[\"hosp_mortality\"] = pd.to_numeric(dataset[\"hosp_mortality\"])\n"
      ],
      "execution_count": 0,
      "outputs": []
    },
    {
      "metadata": {
        "id": "nkRfWTq7PH_F",
        "colab_type": "code",
        "colab": {}
      },
      "cell_type": "code",
      "source": [
        "x = dataset.iloc[:,:16].values\n",
        "y= dataset.iloc[:,-1].values"
      ],
      "execution_count": 0,
      "outputs": []
    },
    {
      "metadata": {
        "id": "Q4S6j6_0PRAd",
        "colab_type": "code",
        "colab": {}
      },
      "cell_type": "code",
      "source": [
        "# Split the data into Training and Testing set\n",
        "from sklearn.model_selection import train_test_split\n",
        "x_train,x_test,y_train,y_test = train_test_split(x,y,test_size=0.25,random_state=0)"
      ],
      "execution_count": 0,
      "outputs": []
    },
    {
      "metadata": {
        "id": "NwafYz3tafGi",
        "colab_type": "code",
        "colab": {}
      },
      "cell_type": "code",
      "source": [
        "dataset = dataset.dropna()"
      ],
      "execution_count": 0,
      "outputs": []
    },
    {
      "metadata": {
        "id": "OvciaV_NPRCs",
        "colab_type": "code",
        "colab": {}
      },
      "cell_type": "code",
      "source": [
        "# Feature scaling\n",
        "from sklearn.preprocessing import StandardScaler\n",
        "sc = StandardScaler()\n",
        "x_train = sc.fit_transform(x_train)\n",
        "x_test = sc.fit_transform(x_test)"
      ],
      "execution_count": 0,
      "outputs": []
    },
    {
      "metadata": {
        "id": "giwvkdpvbSK1",
        "colab_type": "code",
        "colab": {
          "base_uri": "https://localhost:8080/",
          "height": 34
        },
        "outputId": "6810b8a5-25e4-4bd9-96b4-881a3c2ca2c3"
      },
      "cell_type": "code",
      "source": [
        "y"
      ],
      "execution_count": 20,
      "outputs": [
        {
          "output_type": "execute_result",
          "data": {
            "text/plain": [
              "array([0., 0., 0., ..., 1., 1., 1.])"
            ]
          },
          "metadata": {
            "tags": []
          },
          "execution_count": 20
        }
      ]
    },
    {
      "metadata": {
        "id": "Dt3fj3c1PRFE",
        "colab_type": "code",
        "colab": {
          "base_uri": "https://localhost:8080/",
          "height": 85
        },
        "outputId": "aafeaa38-7df6-430d-aad0-5049a6ec265f"
      },
      "cell_type": "code",
      "source": [
        "#Fitting logistic regression to the training set\n",
        "from sklearn.linear_model import LogisticRegression\n",
        "classifier = LogisticRegression(random_state = 0)\n",
        "classifier.fit(x_train,y_train)"
      ],
      "execution_count": 21,
      "outputs": [
        {
          "output_type": "execute_result",
          "data": {
            "text/plain": [
              "LogisticRegression(C=1.0, class_weight=None, dual=False, fit_intercept=True,\n",
              "          intercept_scaling=1, max_iter=100, multi_class='ovr', n_jobs=1,\n",
              "          penalty='l2', random_state=0, solver='liblinear', tol=0.0001,\n",
              "          verbose=0, warm_start=False)"
            ]
          },
          "metadata": {
            "tags": []
          },
          "execution_count": 21
        }
      ]
    },
    {
      "metadata": {
        "id": "osg7gO5xPRHQ",
        "colab_type": "code",
        "colab": {}
      },
      "cell_type": "code",
      "source": [
        "# Predicting the Test set results\n",
        "y_pred = classifier.predict(x_test)"
      ],
      "execution_count": 0,
      "outputs": []
    },
    {
      "metadata": {
        "id": "vL_Mzan_PZEw",
        "colab_type": "code",
        "colab": {}
      },
      "cell_type": "code",
      "source": [
        "# Making the confusion matrix \n",
        "from sklearn.metrics import confusion_matrix\n",
        "cm = confusion_matrix(y_test,y_pred)"
      ],
      "execution_count": 0,
      "outputs": []
    },
    {
      "metadata": {
        "id": "k5wavMEjPRJo",
        "colab_type": "code",
        "colab": {
          "base_uri": "https://localhost:8080/",
          "height": 34
        },
        "outputId": "1208fc43-d96f-425a-e0b5-7ea2fbe7f302"
      },
      "cell_type": "code",
      "source": [
        "# Making the confusion matrix \n",
        "from sklearn import metrics\n",
        "print (metrics.accuracy_score(y_test,classifier.predict(x_test)))"
      ],
      "execution_count": 24,
      "outputs": [
        {
          "output_type": "stream",
          "text": [
            "0.8293591654247392\n"
          ],
          "name": "stdout"
        }
      ]
    },
    {
      "metadata": {
        "id": "lnuKD0eSPRN3",
        "colab_type": "code",
        "colab": {
          "base_uri": "https://localhost:8080/",
          "height": 204
        },
        "outputId": "32648884-c294-4249-ed18-7318d27f200e"
      },
      "cell_type": "code",
      "source": [
        "#Improve the technique of logistic regression\n",
        "predict_prob_df=pd.DataFrame(classifier.predict_proba(x_test))\n",
        "predict_prob_df.head(5)"
      ],
      "execution_count": 25,
      "outputs": [
        {
          "output_type": "execute_result",
          "data": {
            "text/html": [
              "<div>\n",
              "<style scoped>\n",
              "    .dataframe tbody tr th:only-of-type {\n",
              "        vertical-align: middle;\n",
              "    }\n",
              "\n",
              "    .dataframe tbody tr th {\n",
              "        vertical-align: top;\n",
              "    }\n",
              "\n",
              "    .dataframe thead th {\n",
              "        text-align: right;\n",
              "    }\n",
              "</style>\n",
              "<table border=\"1\" class=\"dataframe\">\n",
              "  <thead>\n",
              "    <tr style=\"text-align: right;\">\n",
              "      <th></th>\n",
              "      <th>0</th>\n",
              "      <th>1</th>\n",
              "    </tr>\n",
              "  </thead>\n",
              "  <tbody>\n",
              "    <tr>\n",
              "      <th>0</th>\n",
              "      <td>0.090157</td>\n",
              "      <td>0.909843</td>\n",
              "    </tr>\n",
              "    <tr>\n",
              "      <th>1</th>\n",
              "      <td>0.823351</td>\n",
              "      <td>0.176649</td>\n",
              "    </tr>\n",
              "    <tr>\n",
              "      <th>2</th>\n",
              "      <td>0.070416</td>\n",
              "      <td>0.929584</td>\n",
              "    </tr>\n",
              "    <tr>\n",
              "      <th>3</th>\n",
              "      <td>0.575136</td>\n",
              "      <td>0.424864</td>\n",
              "    </tr>\n",
              "    <tr>\n",
              "      <th>4</th>\n",
              "      <td>0.818162</td>\n",
              "      <td>0.181838</td>\n",
              "    </tr>\n",
              "  </tbody>\n",
              "</table>\n",
              "</div>"
            ],
            "text/plain": [
              "          0         1\n",
              "0  0.090157  0.909843\n",
              "1  0.823351  0.176649\n",
              "2  0.070416  0.929584\n",
              "3  0.575136  0.424864\n",
              "4  0.818162  0.181838"
            ]
          },
          "metadata": {
            "tags": []
          },
          "execution_count": 25
        }
      ]
    },
    {
      "metadata": {
        "id": "w061G0QLPRQ3",
        "colab_type": "code",
        "colab": {}
      },
      "cell_type": "code",
      "source": [
        ""
      ],
      "execution_count": 0,
      "outputs": []
    },
    {
      "metadata": {
        "id": "Qr0t94mlPRMI",
        "colab_type": "code",
        "colab": {}
      },
      "cell_type": "code",
      "source": [
        "\n"
      ],
      "execution_count": 0,
      "outputs": []
    },
    {
      "metadata": {
        "id": "jb4MvN1LP3cF",
        "colab_type": "text"
      },
      "cell_type": "markdown",
      "source": [
        "# SVM-Support Vector Machine for Classification\n"
      ]
    },
    {
      "metadata": {
        "id": "clQaOt-dPoSM",
        "colab_type": "code",
        "colab": {
          "base_uri": "https://localhost:8080/",
          "height": 34
        },
        "outputId": "393d44e9-8529-4f1c-df42-20e0bae93a8c"
      },
      "cell_type": "code",
      "source": [
        "# Support Vector Machines\n",
        "from sklearn.svm import SVC\n",
        "svc = SVC()\n",
        "svc.fit(x_train, y_train)\n",
        "y_pred = svc.predict(x_test)\n",
        "acc_svc = round(svc.score(x_test, y_test) * 100, 2)\n",
        "acc_svc"
      ],
      "execution_count": 40,
      "outputs": [
        {
          "output_type": "execute_result",
          "data": {
            "text/plain": [
              "95.98"
            ]
          },
          "metadata": {
            "tags": []
          },
          "execution_count": 40
        }
      ]
    },
    {
      "metadata": {
        "id": "5htAatJqPkel",
        "colab_type": "code",
        "colab": {
          "base_uri": "https://localhost:8080/",
          "height": 34
        },
        "outputId": "ea3929ba-136d-468e-c4dd-569954deb363"
      },
      "cell_type": "code",
      "source": [
        "# Linear SVC\n",
        "from sklearn.svm import LinearSVC\n",
        "linear_svc = LinearSVC()\n",
        "linear_svc.fit(x_train, y_train)\n",
        "y_pred = linear_svc.predict(x_test)\n",
        "acc_linear_svc = round(linear_svc.score(x_test, y_test) * 100, 2)\n",
        "acc_linear_svc"
      ],
      "execution_count": 41,
      "outputs": [
        {
          "output_type": "execute_result",
          "data": {
            "text/plain": [
              "83.08"
            ]
          },
          "metadata": {
            "tags": []
          },
          "execution_count": 41
        }
      ]
    },
    {
      "metadata": {
        "id": "wDJo14vDQDU1",
        "colab_type": "text"
      },
      "cell_type": "markdown",
      "source": [
        "# Logistic regression"
      ]
    },
    {
      "metadata": {
        "id": "9MQrydQGPkg9",
        "colab_type": "code",
        "colab": {
          "base_uri": "https://localhost:8080/",
          "height": 34
        },
        "outputId": "15b7aced-b4ba-4ef6-da65-8599a9342494"
      },
      "cell_type": "code",
      "source": [
        "# Logistic Regression\n",
        "from sklearn.linear_model import LogisticRegression\n",
        "logreg = LogisticRegression()\n",
        "logreg.fit(x_train, y_train)\n",
        "y_pred = logreg.predict(x_test)\n",
        "acc_log = round(logreg.score(x_test, y_test) * 100, 2)\n",
        "acc_log"
      ],
      "execution_count": 42,
      "outputs": [
        {
          "output_type": "execute_result",
          "data": {
            "text/plain": [
              "82.94"
            ]
          },
          "metadata": {
            "tags": []
          },
          "execution_count": 42
        }
      ]
    },
    {
      "metadata": {
        "id": "D-fh7wXsQJqc",
        "colab_type": "text"
      },
      "cell_type": "markdown",
      "source": [
        "# KNN - K Nearest Neighbour Prediction\n"
      ]
    },
    {
      "metadata": {
        "id": "Fpc22jmzPkjq",
        "colab_type": "code",
        "colab": {
          "base_uri": "https://localhost:8080/",
          "height": 34
        },
        "outputId": "dd6d3ed2-92f6-48ad-e0f5-d8d6aafb4685"
      },
      "cell_type": "code",
      "source": [
        "#KNN - K-Nearest Neighbour\n",
        "from sklearn.neighbors import KNeighborsClassifier\n",
        "knn = KNeighborsClassifier(n_neighbors = 3)\n",
        "knn.fit(x_train, y_train)\n",
        "y_pred = knn.predict(x_test)\n",
        "acc_knn = round(knn.score(x_test, y_test) * 100, 2)\n",
        "acc_knn"
      ],
      "execution_count": 43,
      "outputs": [
        {
          "output_type": "execute_result",
          "data": {
            "text/plain": [
              "99.11"
            ]
          },
          "metadata": {
            "tags": []
          },
          "execution_count": 43
        }
      ]
    },
    {
      "metadata": {
        "id": "fJvgfhwsQNUh",
        "colab_type": "text"
      },
      "cell_type": "markdown",
      "source": [
        "# Gaussian Naive Bayes"
      ]
    },
    {
      "metadata": {
        "id": "1TUXYtFBPknX",
        "colab_type": "code",
        "colab": {
          "base_uri": "https://localhost:8080/",
          "height": 34
        },
        "outputId": "b49c2e20-01cb-458f-d36c-b13f8c701d6d"
      },
      "cell_type": "code",
      "source": [
        "# Gaussian Naive Bayes\n",
        "from sklearn.naive_bayes import GaussianNB\n",
        "gaussian = GaussianNB()\n",
        "gaussian.fit(x_train, y_train)\n",
        "y_pred = gaussian.predict(x_test)\n",
        "acc_gaussian = round(gaussian.score(x_test, y_test) * 100, 2)\n",
        "acc_gaussian"
      ],
      "execution_count": 44,
      "outputs": [
        {
          "output_type": "execute_result",
          "data": {
            "text/plain": [
              "69.97"
            ]
          },
          "metadata": {
            "tags": []
          },
          "execution_count": 44
        }
      ]
    },
    {
      "metadata": {
        "id": "JBe9cF_uQQac",
        "colab_type": "text"
      },
      "cell_type": "markdown",
      "source": [
        "# Perceptron Model/Algorithm analysis"
      ]
    },
    {
      "metadata": {
        "id": "jcFKhO2dQS5E",
        "colab_type": "code",
        "colab": {
          "base_uri": "https://localhost:8080/",
          "height": 34
        },
        "outputId": "b91d7527-6b91-4717-8242-a5f754163170"
      },
      "cell_type": "code",
      "source": [
        "# Perceptron\n",
        "from sklearn.linear_model import Perceptron\n",
        "perceptron = Perceptron()\n",
        "perceptron.fit(x_train, y_train)\n",
        "y_pred = perceptron.predict(x_test)\n",
        "acc_perceptron = round(perceptron.score(x_test, y_test) * 100, 2)\n",
        "acc_perceptron"
      ],
      "execution_count": 38,
      "outputs": [
        {
          "output_type": "execute_result",
          "data": {
            "text/plain": [
              "75.48"
            ]
          },
          "metadata": {
            "tags": []
          },
          "execution_count": 38
        }
      ]
    },
    {
      "metadata": {
        "id": "MaBvWvPHQWKR",
        "colab_type": "text"
      },
      "cell_type": "markdown",
      "source": [
        "# Stochastic Gradient Descent"
      ]
    },
    {
      "metadata": {
        "id": "jLn1lPxNQYCl",
        "colab_type": "code",
        "colab": {
          "base_uri": "https://localhost:8080/",
          "height": 34
        },
        "outputId": "54754b0c-259e-408d-a7c8-43c0201395a3"
      },
      "cell_type": "code",
      "source": [
        "# Stochastic Gradient Descent\n",
        "from sklearn import linear_model\n",
        "clf = linear_model.SGDClassifier()\n",
        "clf.fit(x_train, y_train)\n",
        "y_pred = clf.predict(x_test)\n",
        "acc_sgd = round(clf.score(x_test, y_test) * 100, 2)\n",
        "acc_sgd"
      ],
      "execution_count": 45,
      "outputs": [
        {
          "output_type": "execute_result",
          "data": {
            "text/plain": [
              "81.15"
            ]
          },
          "metadata": {
            "tags": []
          },
          "execution_count": 45
        }
      ]
    },
    {
      "metadata": {
        "id": "BobMWC0qQcWH",
        "colab_type": "text"
      },
      "cell_type": "markdown",
      "source": [
        "# Decision Tree Algorithm "
      ]
    },
    {
      "metadata": {
        "id": "iwGHLa4TQil9",
        "colab_type": "code",
        "colab": {
          "base_uri": "https://localhost:8080/",
          "height": 232
        },
        "outputId": "7f0774e8-c28e-4e99-ac61-70fab5fe6709"
      },
      "cell_type": "code",
      "source": [
        "# Decision Tree\n",
        "\n",
        "decision_tree = DecisionTreeClassifier()\n",
        "decision_tree.fit(x_train, y_train)\n",
        "y_pred = decision_tree.predict(x_test)\n",
        "acc_decision_tree = round(decision_tree.score(x_train, y_train) * 100, 2)\n",
        "acc_decision_tree"
      ],
      "execution_count": 33,
      "outputs": [
        {
          "output_type": "error",
          "ename": "NameError",
          "evalue": "ignored",
          "traceback": [
            "\u001b[0;31m\u001b[0m",
            "\u001b[0;31mNameError\u001b[0mTraceback (most recent call last)",
            "\u001b[0;32m<ipython-input-33-ab10a5b2faaf>\u001b[0m in \u001b[0;36m<module>\u001b[0;34m()\u001b[0m\n\u001b[1;32m      1\u001b[0m \u001b[0;34m\u001b[0m\u001b[0m\n\u001b[0;32m----> 2\u001b[0;31m \u001b[0mdecision_tree\u001b[0m \u001b[0;34m=\u001b[0m \u001b[0mDecisionTreeClassifier\u001b[0m\u001b[0;34m(\u001b[0m\u001b[0;34m)\u001b[0m\u001b[0;34m\u001b[0m\u001b[0m\n\u001b[0m\u001b[1;32m      3\u001b[0m \u001b[0mdecision_tree\u001b[0m\u001b[0;34m.\u001b[0m\u001b[0mfit\u001b[0m\u001b[0;34m(\u001b[0m\u001b[0mx_train\u001b[0m\u001b[0;34m,\u001b[0m \u001b[0my_train\u001b[0m\u001b[0;34m)\u001b[0m\u001b[0;34m\u001b[0m\u001b[0m\n\u001b[1;32m      4\u001b[0m \u001b[0my_pred\u001b[0m \u001b[0;34m=\u001b[0m \u001b[0mdecision_tree\u001b[0m\u001b[0;34m.\u001b[0m\u001b[0mpredict\u001b[0m\u001b[0;34m(\u001b[0m\u001b[0mx_test\u001b[0m\u001b[0;34m)\u001b[0m\u001b[0;34m\u001b[0m\u001b[0m\n\u001b[1;32m      5\u001b[0m \u001b[0macc_decision_tree\u001b[0m \u001b[0;34m=\u001b[0m \u001b[0mround\u001b[0m\u001b[0;34m(\u001b[0m\u001b[0mdecision_tree\u001b[0m\u001b[0;34m.\u001b[0m\u001b[0mscore\u001b[0m\u001b[0;34m(\u001b[0m\u001b[0mx_train\u001b[0m\u001b[0;34m,\u001b[0m \u001b[0my_train\u001b[0m\u001b[0;34m)\u001b[0m \u001b[0;34m*\u001b[0m \u001b[0;36m100\u001b[0m\u001b[0;34m,\u001b[0m \u001b[0;36m2\u001b[0m\u001b[0;34m)\u001b[0m\u001b[0;34m\u001b[0m\u001b[0m\n",
            "\u001b[0;31mNameError\u001b[0m: name 'DecisionTreeClassifier' is not defined"
          ]
        }
      ]
    },
    {
      "metadata": {
        "id": "1vZySjXEQklM",
        "colab_type": "text"
      },
      "cell_type": "markdown",
      "source": [
        "# Random Forest"
      ]
    },
    {
      "metadata": {
        "id": "P1Vv3koCQmmo",
        "colab_type": "code",
        "colab": {
          "base_uri": "https://localhost:8080/",
          "height": 34
        },
        "outputId": "cf455cda-d7b6-4f48-e971-8048d76c97df"
      },
      "cell_type": "code",
      "source": [
        "# Random Forest\n",
        "from sklearn.ensemble import RandomForestClassifier\n",
        "random_forest = RandomForestClassifier(n_estimators=100)\n",
        "random_forest.fit(x_train, y_train)\n",
        "y_pred = random_forest.predict(x_test)\n",
        "random_forest.score(x_train, y_train)\n",
        "acc_random_forest = round(random_forest.score(x_test, y_test) * 100, 2)\n",
        "acc_random_forest"
      ],
      "execution_count": 46,
      "outputs": [
        {
          "output_type": "execute_result",
          "data": {
            "text/plain": [
              "98.88"
            ]
          },
          "metadata": {
            "tags": []
          },
          "execution_count": 46
        }
      ]
    },
    {
      "metadata": {
        "id": "rA72jxKhQvYJ",
        "colab_type": "text"
      },
      "cell_type": "markdown",
      "source": [
        "# Model evaluation \n",
        "\n"
      ]
    },
    {
      "metadata": {
        "id": "lfocVuM1Q26A",
        "colab_type": "code",
        "colab": {
          "base_uri": "https://localhost:8080/",
          "height": 297
        },
        "outputId": "65f04ddc-45e6-46e1-cbb7-821393107617"
      },
      "cell_type": "code",
      "source": [
        "models = pd.DataFrame({\n",
        "    'Model': ['Support Vector Machines', 'KNN', 'Logistic Regression', \n",
        "              'Random Forest', 'Naive Bayes', 'Perceptron', \n",
        "              'Stochastic Gradient Decent', 'Linear SVC', \n",
        "              ],\n",
        "    'Score': [acc_svc, acc_knn, acc_log, \n",
        "              acc_random_forest, acc_gaussian, acc_perceptron, \n",
        "              acc_sgd, acc_linear_svc]})\n",
        "models.sort_values(by='Score', ascending=False)"
      ],
      "execution_count": 48,
      "outputs": [
        {
          "output_type": "execute_result",
          "data": {
            "text/html": [
              "<div>\n",
              "<style scoped>\n",
              "    .dataframe tbody tr th:only-of-type {\n",
              "        vertical-align: middle;\n",
              "    }\n",
              "\n",
              "    .dataframe tbody tr th {\n",
              "        vertical-align: top;\n",
              "    }\n",
              "\n",
              "    .dataframe thead th {\n",
              "        text-align: right;\n",
              "    }\n",
              "</style>\n",
              "<table border=\"1\" class=\"dataframe\">\n",
              "  <thead>\n",
              "    <tr style=\"text-align: right;\">\n",
              "      <th></th>\n",
              "      <th>Model</th>\n",
              "      <th>Score</th>\n",
              "    </tr>\n",
              "  </thead>\n",
              "  <tbody>\n",
              "    <tr>\n",
              "      <th>1</th>\n",
              "      <td>KNN</td>\n",
              "      <td>99.11</td>\n",
              "    </tr>\n",
              "    <tr>\n",
              "      <th>3</th>\n",
              "      <td>Random Forest</td>\n",
              "      <td>98.88</td>\n",
              "    </tr>\n",
              "    <tr>\n",
              "      <th>0</th>\n",
              "      <td>Support Vector Machines</td>\n",
              "      <td>95.98</td>\n",
              "    </tr>\n",
              "    <tr>\n",
              "      <th>7</th>\n",
              "      <td>Linear SVC</td>\n",
              "      <td>83.08</td>\n",
              "    </tr>\n",
              "    <tr>\n",
              "      <th>2</th>\n",
              "      <td>Logistic Regression</td>\n",
              "      <td>82.94</td>\n",
              "    </tr>\n",
              "    <tr>\n",
              "      <th>6</th>\n",
              "      <td>Stochastic Gradient Decent</td>\n",
              "      <td>81.15</td>\n",
              "    </tr>\n",
              "    <tr>\n",
              "      <th>5</th>\n",
              "      <td>Perceptron</td>\n",
              "      <td>75.48</td>\n",
              "    </tr>\n",
              "    <tr>\n",
              "      <th>4</th>\n",
              "      <td>Naive Bayes</td>\n",
              "      <td>69.97</td>\n",
              "    </tr>\n",
              "  </tbody>\n",
              "</table>\n",
              "</div>"
            ],
            "text/plain": [
              "                        Model  Score\n",
              "1                         KNN  99.11\n",
              "3               Random Forest  98.88\n",
              "0     Support Vector Machines  95.98\n",
              "7                  Linear SVC  83.08\n",
              "2         Logistic Regression  82.94\n",
              "6  Stochastic Gradient Decent  81.15\n",
              "5                  Perceptron  75.48\n",
              "4                 Naive Bayes  69.97"
            ]
          },
          "metadata": {
            "tags": []
          },
          "execution_count": 48
        }
      ]
    },
    {
      "metadata": {
        "id": "WNBTMfYjelSe",
        "colab_type": "code",
        "colab": {}
      },
      "cell_type": "code",
      "source": [
        "#Build a model to predict y using x1,x2 and x3. Note down R-Square and Adj R-Square values \n",
        "from sklearn.linear_model import LinearRegression\n",
        "lr = LinearRegression()\n",
        "lr.fit(x_train, y_train)\n",
        "predictions = lr.predict(x_test)"
      ],
      "execution_count": 0,
      "outputs": []
    },
    {
      "metadata": {
        "id": "zGAJY4wDeytE",
        "colab_type": "code",
        "colab": {
          "base_uri": "https://localhost:8080/",
          "height": 580
        },
        "outputId": "bc669c60-a515-4b0d-8d69-425bc7213bbd"
      },
      "cell_type": "code",
      "source": [
        "import statsmodels.formula.api as sm\n",
        "model = sm.ols(formula='hosp_mortality ~ patientunitstayid+outputtotal+urineoutput+heartrate+respiratoryrate+spo2+nibp_systolic+nibp_diastolic+nibp_mean+temperature+ibp_systolic+ibp_diastolic+ibp_mean+age+gender+icu_los_hours', data=dataset)\n",
        "fitted1 = model.fit()\n",
        "fitted1.summary()"
      ],
      "execution_count": 52,
      "outputs": [
        {
          "output_type": "execute_result",
          "data": {
            "text/html": [
              "<table class=\"simpletable\">\n",
              "<caption>OLS Regression Results</caption>\n",
              "<tr>\n",
              "  <th>Dep. Variable:</th>     <td>hosp_mortality</td>  <th>  R-squared:         </th> <td>   0.454</td>\n",
              "</tr>\n",
              "<tr>\n",
              "  <th>Model:</th>                   <td>OLS</td>       <th>  Adj. R-squared:    </th> <td>   0.453</td>\n",
              "</tr>\n",
              "<tr>\n",
              "  <th>Method:</th>             <td>Least Squares</td>  <th>  F-statistic:       </th> <td>   278.3</td>\n",
              "</tr>\n",
              "<tr>\n",
              "  <th>Date:</th>             <td>Sun, 11 Nov 2018</td> <th>  Prob (F-statistic):</th>  <td>  0.00</td> \n",
              "</tr>\n",
              "<tr>\n",
              "  <th>Time:</th>                 <td>15:57:03</td>     <th>  Log-Likelihood:    </th> <td> -2265.1</td>\n",
              "</tr>\n",
              "<tr>\n",
              "  <th>No. Observations:</th>      <td>  5367</td>      <th>  AIC:               </th> <td>   4564.</td>\n",
              "</tr>\n",
              "<tr>\n",
              "  <th>Df Residuals:</th>          <td>  5350</td>      <th>  BIC:               </th> <td>   4676.</td>\n",
              "</tr>\n",
              "<tr>\n",
              "  <th>Df Model:</th>              <td>    16</td>      <th>                     </th>     <td> </td>   \n",
              "</tr>\n",
              "<tr>\n",
              "  <th>Covariance Type:</th>      <td>nonrobust</td>    <th>                     </th>     <td> </td>   \n",
              "</tr>\n",
              "</table>\n",
              "<table class=\"simpletable\">\n",
              "<tr>\n",
              "          <td></td>             <th>coef</th>     <th>std err</th>      <th>t</th>      <th>P>|t|</th>  <th>[0.025</th>    <th>0.975]</th>  \n",
              "</tr>\n",
              "<tr>\n",
              "  <th>Intercept</th>         <td>    3.0077</td> <td>    0.279</td> <td>   10.798</td> <td> 0.000</td> <td>    2.462</td> <td>    3.554</td>\n",
              "</tr>\n",
              "<tr>\n",
              "  <th>patientunitstayid</th> <td> 7.866e-08</td> <td> 6.08e-09</td> <td>   12.935</td> <td> 0.000</td> <td> 6.67e-08</td> <td> 9.06e-08</td>\n",
              "</tr>\n",
              "<tr>\n",
              "  <th>outputtotal</th>       <td> 9.953e-06</td> <td> 9.27e-06</td> <td>    1.074</td> <td> 0.283</td> <td>-8.21e-06</td> <td> 2.81e-05</td>\n",
              "</tr>\n",
              "<tr>\n",
              "  <th>urineoutput</th>       <td>   -0.0003</td> <td> 3.66e-05</td> <td>   -7.038</td> <td> 0.000</td> <td>   -0.000</td> <td>   -0.000</td>\n",
              "</tr>\n",
              "<tr>\n",
              "  <th>heartrate</th>         <td>    0.0073</td> <td>    0.000</td> <td>   20.728</td> <td> 0.000</td> <td>    0.007</td> <td>    0.008</td>\n",
              "</tr>\n",
              "<tr>\n",
              "  <th>respiratoryrate</th>   <td>   -0.0021</td> <td>    0.001</td> <td>   -2.555</td> <td> 0.011</td> <td>   -0.004</td> <td>   -0.000</td>\n",
              "</tr>\n",
              "<tr>\n",
              "  <th>spo2</th>              <td>   -0.0043</td> <td>    0.001</td> <td>   -2.924</td> <td> 0.003</td> <td>   -0.007</td> <td>   -0.001</td>\n",
              "</tr>\n",
              "<tr>\n",
              "  <th>nibp_systolic</th>     <td>   -0.0105</td> <td>    0.001</td> <td>  -20.467</td> <td> 0.000</td> <td>   -0.012</td> <td>   -0.010</td>\n",
              "</tr>\n",
              "<tr>\n",
              "  <th>nibp_diastolic</th>    <td>   -0.0198</td> <td>    0.001</td> <td>  -15.000</td> <td> 0.000</td> <td>   -0.022</td> <td>   -0.017</td>\n",
              "</tr>\n",
              "<tr>\n",
              "  <th>nibp_mean</th>         <td>    0.0244</td> <td>    0.002</td> <td>   15.753</td> <td> 0.000</td> <td>    0.021</td> <td>    0.027</td>\n",
              "</tr>\n",
              "<tr>\n",
              "  <th>temperature</th>       <td>   -0.0685</td> <td>    0.006</td> <td>  -11.021</td> <td> 0.000</td> <td>   -0.081</td> <td>   -0.056</td>\n",
              "</tr>\n",
              "<tr>\n",
              "  <th>ibp_systolic</th>      <td>   -0.0034</td> <td>    0.000</td> <td>   -8.575</td> <td> 0.000</td> <td>   -0.004</td> <td>   -0.003</td>\n",
              "</tr>\n",
              "<tr>\n",
              "  <th>ibp_diastolic</th>     <td>   -0.0072</td> <td>    0.001</td> <td>   -8.143</td> <td> 0.000</td> <td>   -0.009</td> <td>   -0.005</td>\n",
              "</tr>\n",
              "<tr>\n",
              "  <th>ibp_mean</th>          <td>    0.0097</td> <td>    0.001</td> <td>    8.390</td> <td> 0.000</td> <td>    0.007</td> <td>    0.012</td>\n",
              "</tr>\n",
              "<tr>\n",
              "  <th>age</th>               <td>    0.0041</td> <td>    0.000</td> <td>    9.296</td> <td> 0.000</td> <td>    0.003</td> <td>    0.005</td>\n",
              "</tr>\n",
              "<tr>\n",
              "  <th>gender</th>            <td>    0.0993</td> <td>    0.013</td> <td>    7.574</td> <td> 0.000</td> <td>    0.074</td> <td>    0.125</td>\n",
              "</tr>\n",
              "<tr>\n",
              "  <th>icu_los_hours</th>     <td>   -0.0002</td> <td> 2.34e-05</td> <td>   -9.249</td> <td> 0.000</td> <td>   -0.000</td> <td>   -0.000</td>\n",
              "</tr>\n",
              "</table>\n",
              "<table class=\"simpletable\">\n",
              "<tr>\n",
              "  <th>Omnibus:</th>       <td>20.873</td> <th>  Durbin-Watson:     </th> <td>   0.234</td>\n",
              "</tr>\n",
              "<tr>\n",
              "  <th>Prob(Omnibus):</th> <td> 0.000</td> <th>  Jarque-Bera (JB):  </th> <td>  23.564</td>\n",
              "</tr>\n",
              "<tr>\n",
              "  <th>Skew:</th>          <td> 0.100</td> <th>  Prob(JB):          </th> <td>7.64e-06</td>\n",
              "</tr>\n",
              "<tr>\n",
              "  <th>Kurtosis:</th>      <td> 3.256</td> <th>  Cond. No.          </th> <td>1.44e+08</td>\n",
              "</tr>\n",
              "</table>"
            ],
            "text/plain": [
              "<class 'statsmodels.iolib.summary.Summary'>\n",
              "\"\"\"\n",
              "                            OLS Regression Results                            \n",
              "==============================================================================\n",
              "Dep. Variable:         hosp_mortality   R-squared:                       0.454\n",
              "Model:                            OLS   Adj. R-squared:                  0.453\n",
              "Method:                 Least Squares   F-statistic:                     278.3\n",
              "Date:                Sun, 11 Nov 2018   Prob (F-statistic):               0.00\n",
              "Time:                        15:57:03   Log-Likelihood:                -2265.1\n",
              "No. Observations:                5367   AIC:                             4564.\n",
              "Df Residuals:                    5350   BIC:                             4676.\n",
              "Df Model:                          16                                         \n",
              "Covariance Type:            nonrobust                                         \n",
              "=====================================================================================\n",
              "                        coef    std err          t      P>|t|      [0.025      0.975]\n",
              "-------------------------------------------------------------------------------------\n",
              "Intercept             3.0077      0.279     10.798      0.000       2.462       3.554\n",
              "patientunitstayid  7.866e-08   6.08e-09     12.935      0.000    6.67e-08    9.06e-08\n",
              "outputtotal        9.953e-06   9.27e-06      1.074      0.283   -8.21e-06    2.81e-05\n",
              "urineoutput          -0.0003   3.66e-05     -7.038      0.000      -0.000      -0.000\n",
              "heartrate             0.0073      0.000     20.728      0.000       0.007       0.008\n",
              "respiratoryrate      -0.0021      0.001     -2.555      0.011      -0.004      -0.000\n",
              "spo2                 -0.0043      0.001     -2.924      0.003      -0.007      -0.001\n",
              "nibp_systolic        -0.0105      0.001    -20.467      0.000      -0.012      -0.010\n",
              "nibp_diastolic       -0.0198      0.001    -15.000      0.000      -0.022      -0.017\n",
              "nibp_mean             0.0244      0.002     15.753      0.000       0.021       0.027\n",
              "temperature          -0.0685      0.006    -11.021      0.000      -0.081      -0.056\n",
              "ibp_systolic         -0.0034      0.000     -8.575      0.000      -0.004      -0.003\n",
              "ibp_diastolic        -0.0072      0.001     -8.143      0.000      -0.009      -0.005\n",
              "ibp_mean              0.0097      0.001      8.390      0.000       0.007       0.012\n",
              "age                   0.0041      0.000      9.296      0.000       0.003       0.005\n",
              "gender                0.0993      0.013      7.574      0.000       0.074       0.125\n",
              "icu_los_hours        -0.0002   2.34e-05     -9.249      0.000      -0.000      -0.000\n",
              "==============================================================================\n",
              "Omnibus:                       20.873   Durbin-Watson:                   0.234\n",
              "Prob(Omnibus):                  0.000   Jarque-Bera (JB):               23.564\n",
              "Skew:                           0.100   Prob(JB):                     7.64e-06\n",
              "Kurtosis:                       3.256   Cond. No.                     1.44e+08\n",
              "==============================================================================\n",
              "\n",
              "Warnings:\n",
              "[1] Standard Errors assume that the covariance matrix of the errors is correctly specified.\n",
              "[2] The condition number is large, 1.44e+08. This might indicate that there are\n",
              "strong multicollinearity or other numerical problems.\n",
              "\"\"\""
            ]
          },
          "metadata": {
            "tags": []
          },
          "execution_count": 52
        }
      ]
    }
  ]
}